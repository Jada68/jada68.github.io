{
 "cells": [
  {
   "cell_type": "markdown",
   "id": "c5966665-4cc2-4429-a7a0-e0215475bcda",
   "metadata": {},
   "source": [
    "# Assignment 4\n",
    "## Jada Macharie"
   ]
  },
  {
   "cell_type": "code",
   "execution_count": 2,
   "id": "bd03dba1-4d56-49c6-9fa9-685e2e07c3fc",
   "metadata": {},
   "outputs": [],
   "source": [
    "import random\n",
    "import math as mth\n",
    "import geom\n",
    "#from geom_classes import *"
   ]
  },
  {
   "cell_type": "code",
   "execution_count": 3,
   "id": "996a0ced-d174-4257-a501-537eed350e8d",
   "metadata": {},
   "outputs": [],
   "source": [
    "class Geom():\n",
    "    geomType: 'Generic Geometry Type'\n",
    "    def __init__(self):\n",
    "        self.name = random.choice(['Will','Kate','Harry','Meghan','Charlotte'])\n",
    "        self.color = random.choice(['GREEN','BLACK','RED','PINK'])\n",
    "    \n",
    "    def print_name(self):\n",
    "        print('My name is ', self.name, 'and my color is ',self.color)\n",
    "        \n",
    "    def makestring(self):\n",
    "        return f\"Name: {self.name}, Color: {self.color}, Area: {self.area()}\""
   ]
  },
  {
   "cell_type": "code",
   "execution_count": 4,
   "id": "64dbf26d-f3b9-4854-9827-418332174c65",
   "metadata": {},
   "outputs": [
    {
     "name": "stdout",
     "output_type": "stream",
     "text": [
      "[<__main__.Circle object at 0x7fd55efa36d0>, <__main__.Circle object at 0x7fd55efa3820>]\n",
      "My name is  Will and my color is  GREEN\n",
      "My name is  Will and my color is  GREEN\n",
      "['Name: Will, Color: GREEN, Area: 12.566370614359172', 'Name: Will, Color: GREEN, Area: 28.274333882308138']\n"
     ]
    }
   ],
   "source": [
    "class Circle(Geom):\n",
    "    \n",
    "    def __init__(self,r): #area method for a circle\n",
    "        self.radius = r\n",
    "        super().__init__()\n",
    "        \n",
    "    def area(self):\n",
    "        return mth.pi * self.radius **2\n",
    "        \n",
    "circle_list = [Circle(i) for i in range(2,4)] #create a list of circles with radius 2 and 3\n",
    "print(circle_list)\n",
    "\n",
    "for x in circle_list:\n",
    "    x.print_name()\n",
    "print([x.makestring() for x in circle_list])"
   ]
  },
  {
   "cell_type": "code",
   "execution_count": 5,
   "id": "62e3d243-3dad-4fab-bde3-d8e0cd6dbe26",
   "metadata": {},
   "outputs": [
    {
     "name": "stdout",
     "output_type": "stream",
     "text": [
      "My name is  Kate and my color is  RED\n",
      "My area is  64\n"
     ]
    }
   ],
   "source": [
    "class Square(Geom):\n",
    "    \n",
    "    def __init__(self,s): #area method for a square\n",
    "        self.side = s # s= side\n",
    "        super().__init__()\n",
    "        \n",
    "    def area(self):\n",
    "        return self.side **2\n",
    "s = 8\n",
    "my_square = Square(s)\n",
    "my_square.print_name()\n",
    "print('My area is ',my_square.area())"
   ]
  },
  {
   "cell_type": "code",
   "execution_count": 6,
   "id": "84cb2b96-8864-4397-9193-fa4b980b0062",
   "metadata": {},
   "outputs": [],
   "source": [
    "class Triangle(Geom):\n",
    "    \n",
    "    def __init__(self,bh): #area method for a square\n",
    "        self.side = bh \n",
    "        super().__init__()\n",
    "        \n",
    "    def area(self):\n",
    "        return (mth.sqrt(3)/ 4)*(self.side **2) # square root of 3/2 times x^2"
   ]
  },
  {
   "cell_type": "code",
   "execution_count": 7,
   "id": "a4a0476c-d774-4f5d-b1c0-e567e8668310",
   "metadata": {},
   "outputs": [
    {
     "name": "stdout",
     "output_type": "stream",
     "text": [
      "[<__main__.Triangle object at 0x7fd55ef078e0>, <__main__.Triangle object at 0x7fd55eeeb7f0>, <__main__.Triangle object at 0x7fd55eeeb8b0>, <__main__.Triangle object at 0x7fd55eeeb880>, <__main__.Triangle object at 0x7fd55efa8250>, <__main__.Triangle object at 0x7fd55efa8910>, <__main__.Triangle object at 0x7fd55efa85b0>, <__main__.Triangle object at 0x7fd55efa8af0>]\n",
      "My name is  Harry and my color is  RED\n",
      "My name is  Kate and my color is  PINK\n",
      "My name is  Will and my color is  PINK\n",
      "My name is  Charlotte and my color is  RED\n",
      "My name is  Charlotte and my color is  BLACK\n",
      "My name is  Kate and my color is  GREEN\n",
      "My name is  Meghan and my color is  BLACK\n",
      "My name is  Meghan and my color is  GREEN\n",
      "['Name: Harry, Color: RED, Area: 21.217622392718745', 'Name: Kate, Color: PINK, Area: 27.712812921102035', 'Name: Will, Color: PINK, Area: 35.074028853269766', 'Name: Charlotte, Color: RED, Area: 43.30127018922193', 'Name: Charlotte, Color: BLACK, Area: 52.39453692895854', 'Name: Kate, Color: GREEN, Area: 62.35382907247958', 'Name: Meghan, Color: BLACK, Area: 73.17914661978506', 'Name: Meghan, Color: GREEN, Area: 84.87048957087498']\n",
      "My name is  Will and my color is  RED\n",
      "My area is  43.30127018922193\n"
     ]
    }
   ],
   "source": [
    "triangle_list = [Triangle(k) for k in range(7,15)] #create a list of triangles with sides 7- 14\n",
    "print(triangle_list)\n",
    "\n",
    "for z in triangle_list:\n",
    "    z.print_name()\n",
    "print([z.makestring() for z in triangle_list])\n",
    "\n",
    "bh = 10\n",
    "my_triangle = Triangle(bh)\n",
    "my_triangle.print_name()\n",
    "print('My area is ',my_triangle.area())"
   ]
  },
  {
   "cell_type": "code",
   "execution_count": null,
   "id": "424814a2-ec50-4d61-a982-40ea828aeb7e",
   "metadata": {},
   "outputs": [],
   "source": []
  }
 ],
 "metadata": {
  "kernelspec": {
   "display_name": "Python 3 (ipykernel)",
   "language": "python",
   "name": "python3"
  },
  "language_info": {
   "codemirror_mode": {
    "name": "ipython",
    "version": 3
   },
   "file_extension": ".py",
   "mimetype": "text/x-python",
   "name": "python",
   "nbconvert_exporter": "python",
   "pygments_lexer": "ipython3",
   "version": "3.9.13"
  }
 },
 "nbformat": 4,
 "nbformat_minor": 5
}
