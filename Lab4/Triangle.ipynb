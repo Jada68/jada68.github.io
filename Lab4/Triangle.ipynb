{
 "cells": [
  {
   "cell_type": "code",
   "execution_count": 7,
   "id": "8289ec7a-fb8c-4236-8e53-03b5cbe2de7d",
   "metadata": {},
   "outputs": [],
   "source": [
    "import random\n",
    "import math as mth\n",
    "import geom\n",
    "#from geom_classes import *"
   ]
  },
  {
   "cell_type": "code",
   "execution_count": 9,
   "id": "3c5f3232-0f61-4dfe-a478-ab8687200059",
   "metadata": {},
   "outputs": [],
   "source": [
    "class Geom():\n",
    "    geomType: 'Generic Geometry Type'\n",
    "    def __init__(self):\n",
    "        self.name = random.choice(['Will','Kate','Harry','Meghan','Charlotte'])\n",
    "        self.color = random.choice(['GREEN','BLACK','RED','PINK'])\n",
    "    \n",
    "    def print_name(self):\n",
    "        print('My name is ', self.name, 'and my color is ',self.color)\n",
    "        \n",
    "    def makestring(self):\n",
    "        return f\"Name: {self.name}, Color: {self.color}, Area: {self.area()}\""
   ]
  },
  {
   "cell_type": "code",
   "execution_count": 10,
   "id": "b436235b-8649-479a-a7d6-7bc4c0b3a932",
   "metadata": {},
   "outputs": [],
   "source": [
    "class Triangle(Geom):\n",
    "    \n",
    "    def __init__(self,bh): #area method for a square\n",
    "        self.side = bh \n",
    "        super().__init__()\n",
    "        \n",
    "    def area(self):\n",
    "        return (mth.sqrt(3)/ 4)*(self.side **2) # square root of 3/2 times x^2"
   ]
  },
  {
   "cell_type": "code",
   "execution_count": 11,
   "id": "8a51a4e8-2eaf-4020-bd58-6eda693e0c2e",
   "metadata": {},
   "outputs": [
    {
     "name": "stdout",
     "output_type": "stream",
     "text": [
      "\n",
      " Triangle \n",
      "\n",
      "[<__main__.Triangle object at 0x7fc5d21787c0>, <__main__.Triangle object at 0x7fc5d21789a0>, <__main__.Triangle object at 0x7fc5d2178880>, <__main__.Triangle object at 0x7fc5d20f8700>, <__main__.Triangle object at 0x7fc5d20f88b0>, <__main__.Triangle object at 0x7fc5d20f8460>, <__main__.Triangle object at 0x7fc5d20f8b50>, <__main__.Triangle object at 0x7fc5d2183070>]\n",
      "My name is  Kate and my color is  BLACK\n",
      "My name is  Harry and my color is  GREEN\n",
      "My name is  Kate and my color is  GREEN\n",
      "My name is  Meghan and my color is  PINK\n",
      "My name is  Will and my color is  RED\n",
      "My name is  Harry and my color is  RED\n",
      "My name is  Charlotte and my color is  PINK\n",
      "My name is  Harry and my color is  RED\n",
      "['Name: Kate, Color: BLACK, Area: 21.217622392718745', 'Name: Harry, Color: GREEN, Area: 27.712812921102035', 'Name: Kate, Color: GREEN, Area: 35.074028853269766', 'Name: Meghan, Color: PINK, Area: 43.30127018922193', 'Name: Will, Color: RED, Area: 52.39453692895854', 'Name: Harry, Color: RED, Area: 62.35382907247958', 'Name: Charlotte, Color: PINK, Area: 73.17914661978506', 'Name: Harry, Color: RED, Area: 84.87048957087498']\n",
      "My name is  Meghan and my color is  BLACK\n",
      "My area is  43.30127018922193\n"
     ]
    }
   ],
   "source": [
    "print('\\n','Triangle','\\n')\n",
    "\n",
    "triangle_list = [Triangle(k) for k in range(7,15)] #create a list of triangles with sides 7- 14\n",
    "print(triangle_list)\n",
    "\n",
    "for z in triangle_list:\n",
    "    z.print_name()\n",
    "print([z.makestring() for z in triangle_list])\n",
    "\n",
    "bh = 10\n",
    "my_triangle = Triangle(bh)\n",
    "my_triangle.print_name()\n",
    "print('My area is ',my_triangle.area())"
   ]
  },
  {
   "cell_type": "code",
   "execution_count": null,
   "id": "c9ec8ed5-1e9b-415d-a3e4-b0155516c2b9",
   "metadata": {},
   "outputs": [],
   "source": []
  }
 ],
 "metadata": {
  "kernelspec": {
   "display_name": "Python 3 (ipykernel)",
   "language": "python",
   "name": "python3"
  },
  "language_info": {
   "codemirror_mode": {
    "name": "ipython",
    "version": 3
   },
   "file_extension": ".py",
   "mimetype": "text/x-python",
   "name": "python",
   "nbconvert_exporter": "python",
   "pygments_lexer": "ipython3",
   "version": "3.9.13"
  }
 },
 "nbformat": 4,
 "nbformat_minor": 5
}
