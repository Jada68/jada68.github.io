{
 "cells": [
  {
   "cell_type": "markdown",
   "id": "67ba9382-49f8-4b30-9907-a1f6fee47052",
   "metadata": {},
   "source": [
    "#  GeoComputation1 Lab/Assignment 1\n",
    "## Jada Macharie"
   ]
  },
  {
   "cell_type": "code",
   "execution_count": null,
   "id": "463a37df-5a9e-4f8a-a2d3-9916168db6ad",
   "metadata": {},
   "outputs": [],
   "source": [
    "import platform\n",
    "print(platform.python_version())"
   ]
  },
  {
   "cell_type": "code",
   "execution_count": 3,
   "id": "df66e2b1-26d1-4b65-8702-c67773aaeb8b",
   "metadata": {},
   "outputs": [],
   "source": [
    "import random\n",
    "import numpy as np\n",
    "import pandas as pd\n",
    "from statistics import mean"
   ]
  },
  {
   "cell_type": "code",
   "execution_count": 4,
   "id": "a22032f3-e617-47c2-902f-b6d97ec9c43c",
   "metadata": {},
   "outputs": [
    {
     "name": "stdout",
     "output_type": "stream",
     "text": [
      "[40, 47, 21, 37, 26, 15]\n"
     ]
    }
   ],
   "source": [
    "#Generate 6 random numbers between 10 and 50\n",
    "rlist = random.sample(range(10, 50), 6)\n",
    "print(rlist)"
   ]
  },
  {
   "cell_type": "code",
   "execution_count": 5,
   "id": "a6972fb0-2c1e-4969-a8ad-b7e1fc4753d1",
   "metadata": {},
   "outputs": [
    {
     "name": "stdout",
     "output_type": "stream",
     "text": [
      "The average of the numbers is:  31.0\n",
      "Variance of the list is:  125.66666666666667\n"
     ]
    }
   ],
   "source": [
    "rlist_sum = 0\n",
    "\n",
    "for i in rlist:\n",
    "        rlist_sum = int(i) + rlist_sum\n",
    " \n",
    " #calculate the average\n",
    "rlist_avg = rlist_sum / len(rlist)\n",
    "print('The average of the numbers is: ', rlist_avg)\n",
    "print(\"Variance of the list is: \", np.var(rlist))"
   ]
  },
  {
   "cell_type": "code",
   "execution_count": 7,
   "id": "d93bae0e-c680-4559-88be-f2a3d6869250",
   "metadata": {},
   "outputs": [
    {
     "name": "stdout",
     "output_type": "stream",
     "text": [
      "Variance of the list is:  125.66666666666667\n"
     ]
    }
   ],
   "source": [
    "# calculate variance using the formula\n",
    "var_rlist = sum((xi - rlist_avg) ** 2 for xi in rlist) / len(rlist)\n",
    "print(\"Variance of the list is: \",var_rlist)"
   ]
  }
 ],
 "metadata": {
  "kernelspec": {
   "display_name": "Python 3 (ipykernel)",
   "language": "python",
   "name": "python3"
  },
  "language_info": {
   "codemirror_mode": {
    "name": "ipython",
    "version": 3
   },
   "file_extension": ".py",
   "mimetype": "text/x-python",
   "name": "python",
   "nbconvert_exporter": "python",
   "pygments_lexer": "ipython3",
   "version": "3.9.13"
  }
 },
 "nbformat": 4,
 "nbformat_minor": 5
}
