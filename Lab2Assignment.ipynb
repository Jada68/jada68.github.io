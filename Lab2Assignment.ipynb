{
 "cells": [
  {
   "cell_type": "code",
   "execution_count": 264,
   "id": "a32c41eb-3e6c-4d87-9c4b-48ada9405b22",
   "metadata": {},
   "outputs": [],
   "source": [
    "import json\n",
    "import requests, json\n",
    "import os\n",
    "import copy"
   ]
  },
  {
   "cell_type": "code",
   "execution_count": 237,
   "id": "8dd5829c-33ba-434a-92d5-7eaf214822f5",
   "metadata": {},
   "outputs": [
    {
     "data": {
      "text/plain": [
       "'/Users/jadamacharie/Downloads'"
      ]
     },
     "execution_count": 237,
     "metadata": {},
     "output_type": "execute_result"
    }
   ],
   "source": [
    "os.getcwd()\n",
    "os.chdir('/Users/jadamacharie/Downloads')\n",
    "os.getcwd()"
   ]
  },
  {
   "cell_type": "code",
   "execution_count": 238,
   "id": "9c8d3411-9ad8-4568-9d8a-0de02f87c0f4",
   "metadata": {},
   "outputs": [],
   "source": [
    "url = \"https://eric.clst.org/assets/wiki/uploads/Stuff/gz_2010_us_050_00_5m.json\"\n",
    "\n",
    "with requests.get(url) as response:\n",
    "    UScounties = response.json()\n"
   ]
  },
  {
   "cell_type": "code",
   "execution_count": 239,
   "id": "27fd8c6e-5a27-4c6c-bc4c-76737cd8c6e5",
   "metadata": {},
   "outputs": [
    {
     "name": "stdout",
     "output_type": "stream",
     "text": [
      "dict_keys(['type', 'features'])\n",
      "3221\n",
      "2\n",
      "<class 'dict'>\n"
     ]
    }
   ],
   "source": [
    "print(UScounties.keys())\n",
    "print(len(UScounties['features']))\n",
    "print(len(UScounties))\n",
    "print(type(UScounties))"
   ]
  },
  {
   "cell_type": "code",
   "execution_count": 292,
   "id": "d45f0a84-add0-41d2-85de-820e9a14f3b0",
   "metadata": {},
   "outputs": [
    {
     "name": "stdout",
     "output_type": "stream",
     "text": [
      "<class 'list'>\n",
      "<class 'dict'>\n",
      "<class 'dict'>\n",
      "<class 'dict'>\n",
      "<class 'str'>\n",
      "dict_keys(['type', 'properties', 'geometry'])\n",
      "dict_keys(['GEO_ID', 'STATE', 'COUNTY', 'NAME', 'LSAD', 'CENSUSAREA'])\n",
      "dict_keys([])\n",
      "dict_values(['0500000US02261', '02', '261', 'Valdez-Cordova', 'CA', 34239.88])\n"
     ]
    }
   ],
   "source": [
    "print(type(UScounties['features']))  \n",
    "print(type(UScounties['features'][0])) \n",
    "print(type(UScounties['features'][0]['properties']))\n",
    "print(type(UScounties['features'][0]['geometry']))\n",
    "print(type(UScounties['features'][0]['properties']['NAME']))\n",
    "print((UScounties['features'][0]).keys())\n",
    "print((UScounties['features'][0]['properties']).keys())\n",
    "print((UScounties['features'][0]['geometry']).keys())\n",
    "#print((UScounties['features'][0]).values())\n",
    "print((UScounties['features'][0]['properties']).values())\n",
    "#print((UScounties['features'][0]['geometry']).values())\n"
   ]
  },
  {
   "cell_type": "code",
   "execution_count": 220,
   "id": "8c54570b-b382-4151-9ea7-9e0bee001fb6",
   "metadata": {},
   "outputs": [],
   "source": [
    "#UScounties = pd.read_csv('/Users/jadamacharie/Downloads/USA_Counties.csv')\n",
    "#print(UScounties)"
   ]
  },
  {
   "cell_type": "markdown",
   "id": "9bd6c54d-dc8c-4434-adf5-838a7b800041",
   "metadata": {},
   "source": [
    "## Task 2 Find the three most common names of the counties."
   ]
  },
  {
   "cell_type": "code",
   "execution_count": 290,
   "id": "bf7888e1-a3c2-435e-ac8a-33260b08695e",
   "metadata": {},
   "outputs": [
    {
     "name": "stdout",
     "output_type": "stream",
     "text": [
      "None\n",
      "None\n"
     ]
    },
    {
     "ename": "KeyError",
     "evalue": "'geometry'",
     "output_type": "error",
     "traceback": [
      "\u001b[0;31m---------------------------------------------------------------------------\u001b[0m",
      "\u001b[0;31mKeyError\u001b[0m                                  Traceback (most recent call last)",
      "\u001b[0;32m/var/folders/z7/3nv306f105l0c568268jzc480000gn/T/ipykernel_3434/885346623.py\u001b[0m in \u001b[0;36m<module>\u001b[0;34m\u001b[0m\n\u001b[1;32m      7\u001b[0m \u001b[0;32mfor\u001b[0m \u001b[0mk\u001b[0m \u001b[0;32min\u001b[0m \u001b[0mUScounties\u001b[0m\u001b[0;34m:\u001b[0m\u001b[0;34m\u001b[0m\u001b[0;34m\u001b[0m\u001b[0m\n\u001b[1;32m      8\u001b[0m     \u001b[0;32mfor\u001b[0m \u001b[0mk\u001b[0m \u001b[0;32min\u001b[0m \u001b[0mUScounties\u001b[0m\u001b[0;34m:\u001b[0m\u001b[0;34m\u001b[0m\u001b[0;34m\u001b[0m\u001b[0m\n\u001b[0;32m----> 9\u001b[0;31m         \u001b[0;32mfor\u001b[0m \u001b[0mk\u001b[0m \u001b[0;32min\u001b[0m \u001b[0mUScounties\u001b[0m\u001b[0;34m[\u001b[0m\u001b[0;34m'geometry'\u001b[0m\u001b[0;34m]\u001b[0m\u001b[0;34m:\u001b[0m\u001b[0;34m\u001b[0m\u001b[0;34m\u001b[0m\u001b[0m\n\u001b[0m\u001b[1;32m     10\u001b[0m            \u001b[0;34m(\u001b[0m\u001b[0mgeometry\u001b[0m\u001b[0;34m[\u001b[0m\u001b[0mk\u001b[0m\u001b[0;34m]\u001b[0m\u001b[0;34m)\u001b[0m\u001b[0;34m.\u001b[0m\u001b[0mclear\u001b[0m\u001b[0;34m(\u001b[0m\u001b[0;34m)\u001b[0m\u001b[0;34m\u001b[0m\u001b[0;34m\u001b[0m\u001b[0m\n\u001b[1;32m     11\u001b[0m \u001b[0mprint\u001b[0m\u001b[0;34m(\u001b[0m\u001b[0mUScounties\u001b[0m\u001b[0;34m)\u001b[0m\u001b[0;34m\u001b[0m\u001b[0;34m\u001b[0m\u001b[0m\n",
      "\u001b[0;31mKeyError\u001b[0m: 'geometry'"
     ]
    }
   ],
   "source": [
    "#delete geometry dictionary\n",
    "\n",
    "print(UScounties['features'][0]['geometry'].clear())\n",
    "print((UScounties['features'][1]['geometry']).clear())\n",
    "#print(UScounties)\n",
    "\n",
    "for k in UScounties:\n",
    "    for k in UScounties:\n",
    "        for k in UScounties['geometry']:\n",
    "           (geometry[k]).clear() \n",
    "print(UScounties)\n",
    "\n",
    "\n",
    "\n",
    "    \n",
    "                "
   ]
  },
  {
   "cell_type": "code",
   "execution_count": null,
   "id": "7a60e0c5-4088-4a51-8952-b1dc5418831a",
   "metadata": {},
   "outputs": [],
   "source": [
    "clist = ['properties','NAME'] #try to get the name of all counties \n",
    "\n",
    "def getFromDict(UScounties, clist):    \n",
    "    for k in clist: \n",
    "        UScounties = UScounties[k]\n",
    "    return UScounties\n",
    "#print(UScounties)"
   ]
  },
  {
   "cell_type": "code",
   "execution_count": 61,
   "id": "78a76acb-4cd0-43cc-9512-985c3a3ab55d",
   "metadata": {},
   "outputs": [],
   "source": [
    "#for i in UScounties:\n",
    "    #print(UScounties.items())\n",
    "\n",
    "def nested_dict_pairs_iterator(UScounties):\n",
    "    for key, value in UScounties.items(): # Iterate over all key-value pairs of dict argument\n",
    "        if isinstance(value, dict): # Check if value is of dict type\n",
    "            for pair in  nested_dict_pairs_iterator(value): # If value is dict then iterate over all its values\n",
    "                yield (key, *pair)\n",
    "        else:\n",
    "            # If value is not dict type then yield the value\n",
    "            yield (key, value)\n",
    "    print(dict_obj)\n",
    "    \n",
    "#for counties in nested_dict_pairs_iterator(UScounties):\n",
    "    #print(counties)"
   ]
  },
  {
   "cell_type": "code",
   "execution_count": 94,
   "id": "6e0c71fa-b845-42d9-9df5-d63b441e777b",
   "metadata": {},
   "outputs": [
    {
     "ename": "NameError",
     "evalue": "name 'NAME' is not defined",
     "output_type": "error",
     "traceback": [
      "\u001b[0;31m---------------------------------------------------------------------------\u001b[0m",
      "\u001b[0;31mNameError\u001b[0m                                 Traceback (most recent call last)",
      "\u001b[0;32m/var/folders/z7/3nv306f105l0c568268jzc480000gn/T/ipykernel_3434/3572523119.py\u001b[0m in \u001b[0;36m<module>\u001b[0;34m\u001b[0m\n\u001b[1;32m      4\u001b[0m     \u001b[0;32mfor\u001b[0m \u001b[0mproperties\u001b[0m \u001b[0;32min\u001b[0m \u001b[0mUScounties\u001b[0m\u001b[0;34m:\u001b[0m\u001b[0;34m\u001b[0m\u001b[0;34m\u001b[0m\u001b[0m\n\u001b[1;32m      5\u001b[0m         \u001b[0;32mif\u001b[0m \u001b[0;34m'NAME'\u001b[0m \u001b[0;34m==\u001b[0m \u001b[0;34m'NAME'\u001b[0m\u001b[0;34m:\u001b[0m\u001b[0;34m\u001b[0m\u001b[0;34m\u001b[0m\u001b[0m\n\u001b[0;32m----> 6\u001b[0;31m             \u001b[0mprint\u001b[0m\u001b[0;34m(\u001b[0m\u001b[0mNAME\u001b[0m\u001b[0;34m,\u001b[0m\u001b[0mSTATE\u001b[0m\u001b[0;34m)\u001b[0m\u001b[0;34m\u001b[0m\u001b[0;34m\u001b[0m\u001b[0m\n\u001b[0m\u001b[1;32m      7\u001b[0m         \u001b[0;32melse\u001b[0m\u001b[0;34m:\u001b[0m\u001b[0;34m\u001b[0m\u001b[0;34m\u001b[0m\u001b[0m\n\u001b[1;32m      8\u001b[0m                 \u001b[0mprint\u001b[0m\u001b[0;34m(\u001b[0m\u001b[0;34m'none'\u001b[0m\u001b[0;34m)\u001b[0m\u001b[0;34m\u001b[0m\u001b[0;34m\u001b[0m\u001b[0m\n",
      "\u001b[0;31mNameError\u001b[0m: name 'NAME' is not defined"
     ]
    }
   ],
   "source": [
    "#UScounties['features']['NAME'] == UScounties['features']['NAME']\n",
    "\n",
    "for features, properties in UScounties.items():\n",
    "    for properties in UScounties:\n",
    "        if 'NAME' == 'NAME':\n",
    "            print(NAME,STATE)\n",
    "        else:\n",
    "                print('none')\n",
    "        "
   ]
  },
  {
   "cell_type": "markdown",
   "id": "4c743c81-2d4f-4809-ac32-1614b4d0e959",
   "metadata": {},
   "source": [
    "##  Task 3 Basic Statistics"
   ]
  },
  {
   "cell_type": "code",
   "execution_count": 12,
   "id": "6b5c0b2a-0f3c-4e86-8e73-8e026a9df8fd",
   "metadata": {},
   "outputs": [
    {
     "ename": "ValueError",
     "evalue": "too many values to unpack (expected 2)",
     "output_type": "error",
     "traceback": [
      "\u001b[0;31m---------------------------------------------------------------------------\u001b[0m",
      "\u001b[0;31mValueError\u001b[0m                                Traceback (most recent call last)",
      "\u001b[0;32m/var/folders/z7/3nv306f105l0c568268jzc480000gn/T/ipykernel_15204/2200512852.py\u001b[0m in \u001b[0;36m<module>\u001b[0;34m\u001b[0m\n\u001b[1;32m      1\u001b[0m \u001b[0;31m#The number of counties in a state\u001b[0m\u001b[0;34m\u001b[0m\u001b[0;34m\u001b[0m\u001b[0m\n\u001b[0;32m----> 2\u001b[0;31m \u001b[0;32mfor\u001b[0m \u001b[0mcounty_sum\u001b[0m\u001b[0;34m,\u001b[0m \u001b[0mproperties\u001b[0m \u001b[0;32min\u001b[0m \u001b[0mUScounties\u001b[0m\u001b[0;34m.\u001b[0m\u001b[0mvalues\u001b[0m\u001b[0;34m(\u001b[0m\u001b[0;34m)\u001b[0m\u001b[0;34m:\u001b[0m\u001b[0;34m\u001b[0m\u001b[0;34m\u001b[0m\u001b[0m\n\u001b[0m\u001b[1;32m      3\u001b[0m     \u001b[0mcounty_total\u001b[0m \u001b[0;34m=\u001b[0m \u001b[0msum\u001b[0m\u001b[0;34m(\u001b[0m\u001b[0;34m[\u001b[0m\u001b[0;34m'NAME'\u001b[0m\u001b[0;34m]\u001b[0m\u001b[0;34m)\u001b[0m\u001b[0;34m\u001b[0m\u001b[0;34m\u001b[0m\u001b[0m\n\u001b[1;32m      4\u001b[0m     \u001b[0mprint\u001b[0m\u001b[0;34m(\u001b[0m\u001b[0mcounty_total\u001b[0m\u001b[0;34m)\u001b[0m\u001b[0;34m\u001b[0m\u001b[0;34m\u001b[0m\u001b[0m\n\u001b[1;32m      5\u001b[0m \u001b[0;34m\u001b[0m\u001b[0m\n",
      "\u001b[0;31mValueError\u001b[0m: too many values to unpack (expected 2)"
     ]
    }
   ],
   "source": [
    "#The number of counties in a state\n",
    "for county_sum, properties in UScounties.values():\n",
    "    county_total = sum(['NAME'])\n",
    "    print(county_total)\n",
    "    \n",
    "\n",
    "\n",
    "\n",
    "           \n",
    "    \n"
   ]
  },
  {
   "cell_type": "code",
   "execution_count": 35,
   "id": "cb683a4d-0954-4600-a90d-251956cd4b85",
   "metadata": {},
   "outputs": [],
   "source": [
    "#The name and size (census area) of the biggest and smallest county by area in each state\n",
    "#state name = LSAD\n",
    "\n"
   ]
  },
  {
   "cell_type": "code",
   "execution_count": 42,
   "id": "c8ad6f65-2867-447c-85b9-9fbb1377b2df",
   "metadata": {},
   "outputs": [
    {
     "ename": "SyntaxError",
     "evalue": "invalid syntax (1649624753.py, line 5)",
     "output_type": "error",
     "traceback": [
      "\u001b[0;36m  File \u001b[0;32m\"/var/folders/z7/3nv306f105l0c568268jzc480000gn/T/ipykernel_3434/1649624753.py\"\u001b[0;36m, line \u001b[0;32m5\u001b[0m\n\u001b[0;31m    if total = sum(CENSUSAREA for county in UScounties):\u001b[0m\n\u001b[0m             ^\u001b[0m\n\u001b[0;31mSyntaxError\u001b[0m\u001b[0;31m:\u001b[0m invalid syntax\n"
     ]
    }
   ],
   "source": [
    "#The total and average area of counties in each state\n",
    "for count in UScounties[\"properties\"]:\n",
    "    for count in features:\n",
    "        for count in properties:\n",
    "            if total = sum(CENSUSAREA for county in UScounties):\n",
    "print(total[\"CENSUSAREA\"], total)\n",
    "else:\n",
    "    print('None')"
   ]
  },
  {
   "cell_type": "code",
   "execution_count": null,
   "id": "2baa287e-2767-45be-9bd2-b8a216f3887b",
   "metadata": {},
   "outputs": [],
   "source": []
  }
 ],
 "metadata": {
  "kernelspec": {
   "display_name": "Python 3 (ipykernel)",
   "language": "python",
   "name": "python3"
  },
  "language_info": {
   "codemirror_mode": {
    "name": "ipython",
    "version": 3
   },
   "file_extension": ".py",
   "mimetype": "text/x-python",
   "name": "python",
   "nbconvert_exporter": "python",
   "pygments_lexer": "ipython3",
   "version": "3.9.13"
  }
 },
 "nbformat": 4,
 "nbformat_minor": 5
}
