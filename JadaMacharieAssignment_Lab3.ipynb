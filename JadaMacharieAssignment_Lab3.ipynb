{
 "cells": [
  {
   "cell_type": "markdown",
   "id": "2b6ff491-19f0-4310-972a-d89689657481",
   "metadata": {},
   "source": [
    "##  Jada Macharie Assignment 3\n",
    "## Restructure Assignment 2\n",
    "## Task 1 Upload JSON & Create Unique Names List"
   ]
  },
  {
   "cell_type": "code",
   "execution_count": 1,
   "id": "32fbc9bc-c95e-4eeb-9d20-80e804d8b782",
   "metadata": {},
   "outputs": [],
   "source": [
    "import json\n",
    "import os"
   ]
  },
  {
   "cell_type": "code",
   "execution_count": 2,
   "id": "c4e67050-2c94-402b-8a88-905cad63c1bc",
   "metadata": {},
   "outputs": [
    {
     "data": {
      "text/plain": [
       "'/Users/jadamacharie/Downloads'"
      ]
     },
     "execution_count": 2,
     "metadata": {},
     "output_type": "execute_result"
    }
   ],
   "source": [
    "os.getcwd()\n",
    "os.chdir('/Users/jadamacharie/Downloads')\n",
    "os.getcwd()"
   ]
  },
  {
   "cell_type": "code",
   "execution_count": 3,
   "id": "6e8a71a9-b76d-4454-a4ac-83e45b29ea25",
   "metadata": {},
   "outputs": [],
   "source": [
    "with open(\"gz_2010_us_050_00_5m.json\",encoding='latin-1') as f:\n",
    "    UScounties = json.load(f)"
   ]
  },
  {
   "cell_type": "code",
   "execution_count": 4,
   "id": "8f30b8e9-5e14-45fc-af50-0836eba1c954",
   "metadata": {},
   "outputs": [
    {
     "name": "stdout",
     "output_type": "stream",
     "text": [
      "dict_keys(['type', 'features'])\n",
      "3221\n",
      "2\n",
      "<class 'dict'>\n"
     ]
    }
   ],
   "source": [
    "print(UScounties.keys())\n",
    "print(len(UScounties['features'])) #list\n",
    "print(len(UScounties))\n",
    "print(type(UScounties)) #dictionary"
   ]
  },
  {
   "cell_type": "code",
   "execution_count": 5,
   "id": "177c59da-fa47-43b5-a4dc-5e4949d2c447",
   "metadata": {},
   "outputs": [
    {
     "name": "stdout",
     "output_type": "stream",
     "text": [
      "<class 'list'>\n",
      "<class 'dict'>\n",
      "<class 'dict'>\n",
      "<class 'dict'>\n",
      "<class 'str'>\n",
      "dict_keys(['type', 'properties', 'geometry'])\n",
      "dict_keys(['GEO_ID', 'STATE', 'COUNTY', 'NAME', 'LSAD', 'CENSUSAREA'])\n",
      "dict_keys(['type', 'coordinates'])\n",
      "dict_values(['0500000US02261', '02', '261', 'Valdez-Cordova', 'CA', 34239.88])\n"
     ]
    }
   ],
   "source": [
    "print(type(UScounties['features']))\n",
    "print(type(UScounties['features'][0])) \n",
    "print(type(UScounties['features'][0]['properties']))\n",
    "print(type(UScounties['features'][0]['geometry']))\n",
    "print(type(UScounties['features'][0]['properties']['NAME']))\n",
    "print((UScounties['features'][0]).keys())\n",
    "print((UScounties['features'][0]['properties']).keys())\n",
    "print((UScounties['features'][0]['geometry']).keys())\n",
    "#print((UScounties['features'][0]).values())\n",
    "print((UScounties['features'][0]['properties']).values())\n",
    "#print((UScounties['features'][0]['geometry']).values())"
   ]
  },
  {
   "cell_type": "code",
   "execution_count": 6,
   "id": "9903bd8a-db28-4558-91a3-6f9a68021785",
   "metadata": {},
   "outputs": [
    {
     "name": "stdout",
     "output_type": "stream",
     "text": [
      "dict_keys(['01', '02', '04', '05', '06', '08', '09', '10', '11', '12', '13', '15', '16', '17', '18', '19', '20', '21', '22', '23', '24', '25', '26', '27', '28', '29', '30', '31', '32', '33', '34', '35', '36', '37', '38', '39', '40', '41', '42', '44', '45', '46', '47', '48', '49', '50', '51', '53', '54', '55', '56'])\n"
     ]
    },
    {
     "data": {
      "text/plain": [
       "dict_values(['Alabama', 'Alaska', 'Arizona', 'Arkansas', 'California', 'Colorado', 'Connecticut', 'Delaware', 'District of Columbia', 'Florida', 'Geogia', 'Hawaii', 'Idaho', 'Illinois', 'Indiana', 'Iowa', 'Kansas', 'Kentucky', 'Louisiana', 'Maine', 'Maryland', 'Massachusetts', 'Michigan', 'Minnesota', 'Mississippi', 'Missouri', 'Montana', 'Nebraska', 'Nevada', 'New Hampshire', 'New Jersey', 'New Mexico', 'New York', 'North Carolina', 'North Dakota', 'Ohio', 'Oklahoma', 'Oregon', 'Pennsylvania', 'Rhode Island', 'South Carolina', 'South Dakota', 'Tennessee', 'Texas', 'Utah', 'Vermont', 'Virginia', 'Washington', 'West Virginia', 'Wisconsin', 'Wyoming'])"
      ]
     },
     "execution_count": 6,
     "metadata": {},
     "output_type": "execute_result"
    }
   ],
   "source": [
    "with open(\"fipsToState.json\", 'r') as f: #import state code and state name file\n",
    "  states_data = json.load(f)\n",
    "#print(states_data) \n",
    "print(states_data.keys())\n",
    "states_data.values()"
   ]
  },
  {
   "cell_type": "code",
   "execution_count": 7,
   "id": "54e9897f-40a4-44ab-8642-ff0c4c7e81a2",
   "metadata": {},
   "outputs": [
    {
     "name": "stdout",
     "output_type": "stream",
     "text": [
      "1\n",
      "[<generator object <genexpr> at 0x7fc2d85b0820>]\n"
     ]
    }
   ],
   "source": [
    "USAcounties = [(USAcounties.append(county['properties']) for county in UScounties['features'])]\n",
    "print(len(USAcounties))\n",
    "print(USAcounties[0:20])"
   ]
  },
  {
   "cell_type": "code",
   "execution_count": 8,
   "id": "ff33c532-6fbf-4967-8f07-e840c6e5135f",
   "metadata": {},
   "outputs": [
    {
     "name": "stdout",
     "output_type": "stream",
     "text": [
      "3221\n",
      "[{'GEO_ID': '0500000US02261', 'STATE': '02', 'COUNTY': '261', 'NAME': 'Valdez-Cordova', 'LSAD': 'CA', 'CENSUSAREA': 34239.88}, {'GEO_ID': '0500000US02270', 'STATE': '02', 'COUNTY': '270', 'NAME': 'Wade Hampton', 'LSAD': 'CA', 'CENSUSAREA': 17081.433}, {'GEO_ID': '0500000US02275', 'STATE': '02', 'COUNTY': '275', 'NAME': 'Wrangell', 'LSAD': 'Cty&Bor', 'CENSUSAREA': 2541.483}, {'GEO_ID': '0500000US02290', 'STATE': '02', 'COUNTY': '290', 'NAME': 'Yukon-Koyukuk', 'LSAD': 'CA', 'CENSUSAREA': 145504.789}, {'GEO_ID': '0500000US04003', 'STATE': '04', 'COUNTY': '003', 'NAME': 'Cochise', 'LSAD': 'County', 'CENSUSAREA': 6165.69}, {'GEO_ID': '0500000US04009', 'STATE': '04', 'COUNTY': '009', 'NAME': 'Graham', 'LSAD': 'County', 'CENSUSAREA': 4622.597}, {'GEO_ID': '0500000US04012', 'STATE': '04', 'COUNTY': '012', 'NAME': 'La Paz', 'LSAD': 'County', 'CENSUSAREA': 4499.629}, {'GEO_ID': '0500000US04015', 'STATE': '04', 'COUNTY': '015', 'NAME': 'Mohave', 'LSAD': 'County', 'CENSUSAREA': 13311.084}, {'GEO_ID': '0500000US04023', 'STATE': '04', 'COUNTY': '023', 'NAME': 'Santa Cruz', 'LSAD': 'County', 'CENSUSAREA': 1236.916}, {'GEO_ID': '0500000US05005', 'STATE': '05', 'COUNTY': '005', 'NAME': 'Baxter', 'LSAD': 'County', 'CENSUSAREA': 554.283}, {'GEO_ID': '0500000US05023', 'STATE': '05', 'COUNTY': '023', 'NAME': 'Cleburne', 'LSAD': 'County', 'CENSUSAREA': 553.692}, {'GEO_ID': '0500000US05025', 'STATE': '05', 'COUNTY': '025', 'NAME': 'Cleveland', 'LSAD': 'County', 'CENSUSAREA': 597.783}, {'GEO_ID': '0500000US05027', 'STATE': '05', 'COUNTY': '027', 'NAME': 'Columbia', 'LSAD': 'County', 'CENSUSAREA': 766.053}, {'GEO_ID': '0500000US05037', 'STATE': '05', 'COUNTY': '037', 'NAME': 'Cross', 'LSAD': 'County', 'CENSUSAREA': 616.381}, {'GEO_ID': '0500000US05043', 'STATE': '05', 'COUNTY': '043', 'NAME': 'Drew', 'LSAD': 'County', 'CENSUSAREA': 828.356}, {'GEO_ID': '0500000US05051', 'STATE': '05', 'COUNTY': '051', 'NAME': 'Garland', 'LSAD': 'County', 'CENSUSAREA': 677.781}, {'GEO_ID': '0500000US05059', 'STATE': '05', 'COUNTY': '059', 'NAME': 'Hot Spring', 'LSAD': 'County', 'CENSUSAREA': 615.202}, {'GEO_ID': '0500000US05067', 'STATE': '05', 'COUNTY': '067', 'NAME': 'Jackson', 'LSAD': 'County', 'CENSUSAREA': 633.938}, {'GEO_ID': '0500000US05081', 'STATE': '05', 'COUNTY': '081', 'NAME': 'Little River', 'LSAD': 'County', 'CENSUSAREA': 532.253}, {'GEO_ID': '0500000US05087', 'STATE': '05', 'COUNTY': '087', 'NAME': 'Madison', 'LSAD': 'County', 'CENSUSAREA': 834.255}]\n"
     ]
    }
   ],
   "source": [
    "USAcounties = []\n",
    "for county in UScounties['features']:{\n",
    "    USAcounties.append(county['properties'])}\n",
    "print(len(USAcounties))\n",
    "print(USAcounties[0:20])  "
   ]
  },
  {
   "cell_type": "code",
   "execution_count": 9,
   "id": "3657871e-295b-4eb2-91e2-89a04fad778c",
   "metadata": {},
   "outputs": [
    {
     "name": "stdout",
     "output_type": "stream",
     "text": [
      "1909\n"
     ]
    }
   ],
   "source": [
    "unique_countynames = (set(county)for county in USAcounties.items #find the unique county names\n",
    "\n",
    "\n",
    "list_statesdatas = [list(state) for state in states_data.items()]\n",
    "print(list_statesdatas)\n",
    "\n",
    "for county in USAcounties:\n",
    "    #print(county); print(county['properties']['NAME']);\n",
    "    #break\n",
    "    unique_countynames.add(county['NAME'])\n",
    "    \n",
    "print(len(unique_countynames))\n",
    "#print(unique_countynames)"
   ]
  },
  {
   "cell_type": "code",
   "execution_count": 10,
   "id": "fa3afcf8-8447-43b7-ba9b-4489a183cea4",
   "metadata": {},
   "outputs": [
    {
     "name": "stdout",
     "output_type": "stream",
     "text": [
      "['Valdez-Cordova', '02', '261', 34239.88, 'Wade Hampton']\n"
     ]
    }
   ],
   "source": [
    "countyinfo = list()\n",
    "#list_countyinfo = list()\n",
    "for i in range(len(USAcounties)):\n",
    "    countyname = USAcounties[i]['NAME']\n",
    "    statefips = USAcounties[i]['STATE']\n",
    "    countyfips = USAcounties[i]['COUNTY']\n",
    "    countyarea =USAcounties[i]['CENSUSAREA']\n",
    "    \n",
    "    countyinfo.append(countyname)\n",
    "    countyinfo.append(statefips)\n",
    "    countyinfo.append(countyfips)\n",
    "    countyinfo.append(countyarea)\n",
    "    #list_countyinfo.append(countyinfo)\n",
    "\n",
    "print(countyinfo[0:5])\n"
   ]
  },
  {
   "cell_type": "code",
   "execution_count": 11,
   "id": "dbe7f3cb-ef31-4d20-ab0c-60de23ed56b8",
   "metadata": {},
   "outputs": [
    {
     "name": "stdout",
     "output_type": "stream",
     "text": [
      "[['Valdez-Cordova', '02', '261', 34239.88], ['Wade Hampton', '02', '270', 17081.433], ['Wrangell', '02', '275', 2541.483], ['Yukon-Koyukuk', '02', '290', 145504.789], ['Cochise', '04', '003', 6165.69], ['Graham', '04', '009', 4622.597], ['La Paz', '04', '012', 4499.629], ['Mohave', '04', '015', 13311.084], ['Santa Cruz', '04', '023', 1236.916], ['Baxter', '05', '005', 554.283]]\n"
     ]
    }
   ],
   "source": [
    "list_countyinfo= [countyinfo[i:i+4] for i in range(0,len(countyinfo),4)] #seperates every 4 elements into there own list in a list\n",
    "print(list_countyinfo[0:10])"
   ]
  },
  {
   "cell_type": "code",
   "execution_count": 11,
   "id": "ba27c24a-6e15-4b5a-a35c-65a5e3809de5",
   "metadata": {},
   "outputs": [
    {
     "name": "stdout",
     "output_type": "stream",
     "text": [
      "[['01', 'Alabama'], ['02', 'Alaska'], ['04', 'Arizona'], ['05', 'Arkansas'], ['06', 'California'], ['08', 'Colorado'], ['09', 'Connecticut'], ['10', 'Delaware'], ['11', 'District of Columbia'], ['12', 'Florida'], ['13', 'Geogia'], ['15', 'Hawaii'], ['16', 'Idaho'], ['17', 'Illinois'], ['18', 'Indiana'], ['19', 'Iowa'], ['20', 'Kansas'], ['21', 'Kentucky'], ['22', 'Louisiana'], ['23', 'Maine'], ['24', 'Maryland'], ['25', 'Massachusetts'], ['26', 'Michigan'], ['27', 'Minnesota'], ['28', 'Mississippi'], ['29', 'Missouri'], ['30', 'Montana'], ['31', 'Nebraska'], ['32', 'Nevada'], ['33', 'New Hampshire'], ['34', 'New Jersey'], ['35', 'New Mexico'], ['36', 'New York'], ['37', 'North Carolina'], ['38', 'North Dakota'], ['39', 'Ohio'], ['40', 'Oklahoma'], ['41', 'Oregon'], ['42', 'Pennsylvania'], ['44', 'Rhode Island'], ['45', 'South Carolina'], ['46', 'South Dakota'], ['47', 'Tennessee'], ['48', 'Texas'], ['49', 'Utah'], ['50', 'Vermont'], ['51', 'Virginia'], ['53', 'Washington'], ['54', 'West Virginia'], ['55', 'Wisconsin'], ['56', 'Wyoming']]\n",
      "State code '02' corresponds to Alaska.\n"
     ]
    }
   ],
   "source": [
    "d1={k:v for e in UScounties for (k,v) in UScounties.items()}\n",
    "#print(d1)\n",
    "\n",
    "list_statesdatas = [list(state) for state in states_data.items()]\n",
    "print(list_statesdatas) #change the states_data to a list\n",
    "\n",
    "\n",
    "state_codes= {}\n",
    "\n",
    "for pair in list_statesdatas:\n",
    "    state_codes[pair[0]] = pair[1] #pair the first index and second index\n",
    "\n",
    "\n",
    "#print(state_codes)\n",
    "print(f\"State code '02' corresponds to {state_codes['02']}.\")\n",
    "#print(state_codes.keys())\n",
    "#print(UScounties.keys())"
   ]
  },
  {
   "cell_type": "markdown",
   "id": "43e48911-eb34-4a91-b364-11cc1344d3cc",
   "metadata": {},
   "source": [
    "## Task 2 Find the three most common names of the counties."
   ]
  },
  {
   "cell_type": "code",
   "execution_count": 12,
   "id": "5a4c795c-e35c-48dc-b87b-0284015281c0",
   "metadata": {},
   "outputs": [],
   "source": [
    "def allCounties(USAcounties_list, key_properties):\n",
    "    county_dict = {}\n",
    "\n",
    "    unique_county = set([county[key_properties] for county in USAcounties_list])\n",
    "    \n",
    "    for unique_county in unique_county:\n",
    "        county_dict[unique_county] = []\n",
    "\n",
    "    for county in USAcounties_list:\n",
    "        county_dict[county[key_properties]].append(county)\n",
    "    \n",
    "    return county_dict"
   ]
  },
  {
   "cell_type": "code",
   "execution_count": 14,
   "id": "4beacc5c-93d6-4f74-9857-a68b8c1c0993",
   "metadata": {},
   "outputs": [],
   "source": [
    "def allCommonProperties(county_dict, x):\n",
    "\n",
    "    if x > len(county_dict):\n",
    "        x = len(county_dict)\n",
    "\n",
    "    common_properties = []\n",
    "    \n",
    "    for i in range(x):\n",
    "        common_properties.append([None, 0])\n",
    "\n",
    "    for key in county_dict:\n",
    "        total_counties = len(county_dict[key])\n",
    "\n",
    "        common_properties_total = [common_prop[1] for common_prop in common_properties]\n",
    "\n",
    "        if total_counties > min(common_properties_total):\n",
    "            k = common_properties_total.index(min(common_properties_total))\n",
    "            common_properties[k] = [key, total_counties]\n",
    "\n",
    "    common_properties = [key[0] for key in sorted(common_properties, key=lambda row : row[1], reverse=True)]\n",
    "    return common_properties"
   ]
  },
  {
   "cell_type": "code",
   "execution_count": 15,
   "id": "442fccfb-9f82-4588-847e-d2734f413a2b",
   "metadata": {},
   "outputs": [],
   "source": [
    "#d3= UScounties.copy()\n",
    "#for key, value in state_codes.items():\n",
    "    #d3[key]= value\n",
    "    #print(d3)"
   ]
  },
  {
   "cell_type": "code",
   "execution_count": 16,
   "id": "8045acc0-8249-4e79-b639-0951be780d84",
   "metadata": {},
   "outputs": [],
   "source": [
    "#The name and size (census area) of the biggest and smallest county by area in each state\n",
    "#state name = LSAD"
   ]
  },
  {
   "cell_type": "code",
   "execution_count": 17,
   "id": "302452b8-0197-4f7e-9fc2-f82c5598df80",
   "metadata": {},
   "outputs": [
    {
     "name": "stdout",
     "output_type": "stream",
     "text": [
      "There are 31 Washington Counties.\n",
      "There are 26 Jefferson Counties.\n",
      "There are 26 Franklin Counties.\n"
     ]
    }
   ],
   "source": [
    "newcounties_dict = allCounties(USAcounties, 'NAME')\n",
    "common_county_names = allCommonProperties(newcounties_dict, 3) #get the 3 most common county names and their count\n",
    "\n",
    "for county_name in common_county_names:\n",
    "    print(f\"There are {len(newcounties_dict[county_name])} {county_name} Counties.\")"
   ]
  },
  {
   "cell_type": "code",
   "execution_count": 18,
   "id": "0c520703-9b49-44e1-b8e9-1b7675534f0c",
   "metadata": {},
   "outputs": [
    {
     "name": "stdout",
     "output_type": "stream",
     "text": [
      "There are 31 Washington Counties: ['Colorado', 'Florida', 'Arkansas', 'Illinois', 'Iowa', 'Maine', 'Maryland', 'Missouri', 'Tennessee', 'Oklahoma', 'Oregon', 'Wisconsin', 'Utah', 'Vermont', 'Kansas', 'Indiana', 'Kentucky', 'Minnesota', 'Geogia', 'Alabama', 'Louisiana', 'Idaho', 'New York', 'North Carolina', 'Nebraska', 'Mississippi', 'Pennsylvania', 'Ohio', 'Rhode Island', 'Virginia', 'Texas']\n",
      "There are 26 Jefferson Counties: ['Illinois', 'Geogia', 'Iowa', 'Oregon', 'Colorado', 'Arkansas', 'Florida', 'Kansas', 'Kentucky', 'Alabama', 'Louisiana', 'Mississippi', 'Idaho', 'Indiana', 'Missouri', 'Tennessee', 'Texas', 'New York', 'Oklahoma', 'Nebraska', 'Montana', 'Pennsylvania', 'Ohio', 'West Virginia', 'Wisconsin', 'Washington']\n",
      "There are 26 Franklin Counties: ['Geogia', 'Alabama', 'Indiana', 'Idaho', 'Kentucky', 'Iowa', 'Mississippi', 'New York', 'Texas', 'Arkansas', 'Florida', 'Louisiana', 'Maine', 'Massachusetts', 'Illinois', 'Kansas', 'Missouri', 'Tennessee', 'Nebraska', 'North Carolina', 'Pennsylvania', 'Ohio', 'Virginia', 'Virginia', 'Washington', 'Vermont']\n"
     ]
    }
   ],
   "source": [
    "#Iterate through list of most common county names\n",
    "for county_name in common_county_names:\n",
    "    #Print states where each county name appears\n",
    "    print(f\"There are {len(newcounties_dict[county_name])} {county_name} Counties: {[state_codes[county['STATE']] for county in newcounties_dict[county_name]]}\")"
   ]
  },
  {
   "cell_type": "markdown",
   "id": "16b17061-1c9c-4651-8ced-f19c9edd4e94",
   "metadata": {},
   "source": [
    "##  Task 3 Basic Statistics"
   ]
  },
  {
   "cell_type": "code",
   "execution_count": 19,
   "id": "06542a8d-04cf-46ef-93a4-4bf4daad6f1b",
   "metadata": {},
   "outputs": [
    {
     "name": "stdout",
     "output_type": "stream",
     "text": [
      "Five states with the most counties are: ['Texas', 'Geogia', 'Virginia', 'Kentucky', 'Missouri'])\n"
     ]
    }
   ],
   "source": [
    "state_dict = allCounties(USAcounties, 'STATE')\n",
    "\n",
    "print(f\"Five states with the most counties are: {[state_codes[state] for state in allCommonProperties(state_dict, 5)]})\")"
   ]
  },
  {
   "cell_type": "code",
   "execution_count": 63,
   "id": "59442e6d-ee9a-420d-9729-11171eb74cdc",
   "metadata": {},
   "outputs": [
    {
     "name": "stdout",
     "output_type": "stream",
     "text": [
      "The mean area of the 75 counties in Arkansas is 693.81\n",
      "The smallest is Lafayette County, with an area of 528.268\n",
      "The largest is Union County, with an area of 1039.214\n",
      "The mean area of the 14 counties in Massachusetts is 557.15\n",
      "The smallest is Nantucket County, with an area of 44.97\n",
      "The largest is Worcester County, with an area of 1510.77\n",
      "The mean area of the 88 counties in Ohio is 464.33\n",
      "The smallest is Lake County, with an area of 227.493\n",
      "The largest is Ashtabula County, with an area of 701.931\n",
      "The mean area of the 67 counties in Pennsylvania is 667.8\n",
      "The smallest is Montour County, with an area of 130.242\n",
      "The largest is Lycoming County, with an area of 1228.594\n",
      "The mean area of the 5 counties in Hawaii is 1284.53\n",
      "The smallest is Kalawao County, with an area of 11.991\n",
      "The largest is Hawaii County, with an area of 4028.417\n",
      "The mean area of the 29 counties in Utah is 2833.44\n",
      "The smallest is Davis County, with an area of 298.778\n",
      "The largest is San Juan County, with an area of 7819.988\n",
      "The mean area of the 87 counties in Minnesota is 915.25\n",
      "The smallest is Ramsey County, with an area of 152.212\n",
      "The largest is St. Louis County, with an area of 6247.401\n",
      "The mean area of the 134 counties in Virginia is 294.7\n",
      "The smallest is Falls Church County, with an area of 1.999\n",
      "The largest is Pittsylvania County, with an area of 968.941\n",
      "The mean area of the 67 counties in Alabama is 755.9\n",
      "The smallest is Etowah County, with an area of 534.991\n",
      "The largest is Baldwin County, with an area of 1589.784\n",
      "The mean area of the 55 counties in West Virginia is 437.06\n",
      "The smallest is Hancock County, with an area of 82.609\n",
      "The largest is Randolph County, with an area of 1039.681\n",
      "The mean area of the 44 counties in Idaho is 1878.25\n",
      "The smallest is Payette County, with an area of 406.867\n",
      "The largest is Idaho County, with an area of 8477.352\n",
      "The mean area of the 62 counties in New York is 760.1\n",
      "The smallest is New York County, with an area of 22.829\n",
      "The largest is St. Lawrence County, with an area of 2680.377\n",
      "The mean area of the 92 counties in Indiana is 389.41\n",
      "The smallest is Ohio County, with an area of 86.14\n",
      "The largest is Allen County, with an area of 657.308\n",
      "The mean area of the 17 counties in Nevada is 6457.72\n",
      "The smallest is Carson City County, with an area of 144.662\n",
      "The largest is Nye County, with an area of 18181.924\n",
      "The mean area of the 46 counties in South Carolina is 653.49\n",
      "The smallest is McCormick County, with an area of 359.13\n",
      "The largest is Horry County, with an area of 1133.896\n",
      "The mean area of the 66 counties in South Dakota is 1148.65\n",
      "The smallest is Clay County, with an area of 412.185\n",
      "The largest is Meade County, with an area of 3470.984\n",
      "The mean area of the 82 counties in Mississippi is 572.24\n",
      "The smallest is Alcorn County, with an area of 400.038\n",
      "The largest is Yazoo County, with an area of 922.947\n",
      "The mean area of the 254 counties in Texas is 1028.47\n",
      "The smallest is Rockwall County, with an area of 127.036\n",
      "The largest is Brewster County, with an area of 6183.733\n",
      "The mean area of the 23 counties in Wyoming is 4221.44\n",
      "The smallest is Hot Springs County, with an area of 2004.092\n",
      "The largest is Sweetwater County, with an area of 10426.649\n"
     ]
    },
    {
     "ename": "KeyError",
     "evalue": "'72'",
     "output_type": "error",
     "traceback": [
      "\u001b[0;31m---------------------------------------------------------------------------\u001b[0m",
      "\u001b[0;31mKeyError\u001b[0m                                  Traceback (most recent call last)",
      "\u001b[0;32m/var/folders/z7/3nv306f105l0c568268jzc480000gn/T/ipykernel_4274/880365863.py\u001b[0m in \u001b[0;36m<module>\u001b[0;34m\u001b[0m\n\u001b[1;32m     17\u001b[0m     \u001b[0mbiggest_county\u001b[0m \u001b[0;34m=\u001b[0m \u001b[0mstate\u001b[0m\u001b[0;34m[\u001b[0m\u001b[0marea_list\u001b[0m\u001b[0;34m.\u001b[0m\u001b[0mindex\u001b[0m\u001b[0;34m(\u001b[0m\u001b[0mmax\u001b[0m\u001b[0;34m(\u001b[0m\u001b[0marea_list\u001b[0m\u001b[0;34m)\u001b[0m\u001b[0;34m)\u001b[0m\u001b[0;34m]\u001b[0m\u001b[0;34m\u001b[0m\u001b[0;34m\u001b[0m\u001b[0m\n\u001b[1;32m     18\u001b[0m \u001b[0;34m\u001b[0m\u001b[0m\n\u001b[0;32m---> 19\u001b[0;31m     \u001b[0mprint\u001b[0m\u001b[0;34m(\u001b[0m\u001b[0;34mf\"The mean area of the {num_counties} counties in {state_codes[state_code]} is {round(mean_area, 2)}\"\u001b[0m\u001b[0;34m)\u001b[0m\u001b[0;34m\u001b[0m\u001b[0;34m\u001b[0m\u001b[0m\n\u001b[0m\u001b[1;32m     20\u001b[0m     \u001b[0mprint\u001b[0m\u001b[0;34m(\u001b[0m\u001b[0;34mf\"The smallest is {smallest_county['NAME']} County, with an area of {smallest_county['CENSUSAREA']}\"\u001b[0m\u001b[0;34m)\u001b[0m\u001b[0;34m\u001b[0m\u001b[0;34m\u001b[0m\u001b[0m\n\u001b[1;32m     21\u001b[0m     \u001b[0mprint\u001b[0m\u001b[0;34m(\u001b[0m\u001b[0;34mf\"The largest is {biggest_county['NAME']} County, with an area of {biggest_county['CENSUSAREA']}\"\u001b[0m\u001b[0;34m)\u001b[0m\u001b[0;34m\u001b[0m\u001b[0;34m\u001b[0m\u001b[0m\n",
      "\u001b[0;31mKeyError\u001b[0m: '72'"
     ]
    }
   ],
   "source": [
    "for state_code in state_dict:\n",
    "\n",
    "    state = state_dict[state_code]\n",
    "\n",
    "   \n",
    "    num_counties = len(state) #number of counties in each state\n",
    "\n",
    "    \n",
    "    area_list = [county['CENSUSAREA'] for county in state] #list of the county areas in a state\n",
    "\n",
    "    \n",
    "    mean_area = sum(area_list) / len(area_list) # mean of county areas\n",
    "\n",
    "    \n",
    "    smallest_county = state[area_list.index(min(area_list))] #smallest county\n",
    "    biggest_county = state[area_list.index(max(area_list))] #largest county\n",
    "\n",
    "    print(f\"The mean area of the {num_counties} counties in {state_codes[state_code]} is {round(mean_area, 2)}\")\n",
    "    print(f\"The smallest is {smallest_county['NAME']} County, with an area of {smallest_county['CENSUSAREA']}\")\n",
    "    print(f\"The largest is {biggest_county['NAME']} County, with an area of {biggest_county['CENSUSAREA']}\") "
   ]
  },
  {
   "cell_type": "code",
   "execution_count": null,
   "id": "85cb85e3-40bd-4f17-86cb-f86a26555c00",
   "metadata": {},
   "outputs": [],
   "source": [
    "#state_dict = mostcommon_countynames(USAcounties, 'STATE')\n",
    "#print(state_dict)\n",
    "#for state in mostcommon_countynames(state_dict, 5):{\n",
    "    #print('The five states wuth the most counties:', statecode[state])}"
   ]
  }
 ],
 "metadata": {
  "kernelspec": {
   "display_name": "Python 3 (ipykernel)",
   "language": "python",
   "name": "python3"
  },
  "language_info": {
   "codemirror_mode": {
    "name": "ipython",
    "version": 3
   },
   "file_extension": ".py",
   "mimetype": "text/x-python",
   "name": "python",
   "nbconvert_exporter": "python",
   "pygments_lexer": "ipython3",
   "version": "3.9.13"
  },
  "vscode": {
   "interpreter": {
    "hash": "31f2aee4e71d21fbe5cf8b01ff0e069b9275f58929596ceb00d14d90e3e16cd6"
   }
  }
 },
 "nbformat": 4,
 "nbformat_minor": 5
}
